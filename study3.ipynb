{
 "cells": [
  {
   "cell_type": "code",
   "execution_count": 1,
   "metadata": {},
   "outputs": [],
   "source": [
    "import math"
   ]
  },
  {
   "cell_type": "code",
   "execution_count": 2,
   "metadata": {},
   "outputs": [],
   "source": [
    "from math import *"
   ]
  },
  {
   "cell_type": "code",
   "execution_count": 3,
   "metadata": {},
   "outputs": [
    {
     "name": "stdout",
     "output_type": "stream",
     "text": [
      "['__doc__', '__loader__', '__name__', '__package__', '__spec__', 'acos', 'acosh', 'asin', 'asinh', 'atan', 'atan2', 'atanh', 'ceil', 'comb', 'copysign', 'cos', 'cosh', 'degrees', 'dist', 'e', 'erf', 'erfc', 'exp', 'expm1', 'fabs', 'factorial', 'floor', 'fmod', 'frexp', 'fsum', 'gamma', 'gcd', 'hypot', 'inf', 'isclose', 'isfinite', 'isinf', 'isnan', 'isqrt', 'lcm', 'ldexp', 'lgamma', 'log', 'log10', 'log1p', 'log2', 'modf', 'nan', 'nextafter', 'perm', 'pi', 'pow', 'prod', 'radians', 'remainder', 'sin', 'sinh', 'sqrt', 'tan', 'tanh', 'tau', 'trunc', 'ulp']\n"
     ]
    }
   ],
   "source": [
    "print(dir(math))"
   ]
  },
  {
   "cell_type": "code",
   "execution_count": 4,
   "metadata": {},
   "outputs": [
    {
     "data": {
      "text/plain": [
       "3.141592653589793"
      ]
     },
     "execution_count": 4,
     "metadata": {},
     "output_type": "execute_result"
    }
   ],
   "source": [
    "pi"
   ]
  },
  {
   "cell_type": "code",
   "execution_count": null,
   "metadata": {},
   "outputs": [],
   "source": [
    "def my_facto(n) :\n",
    "    if n == 1 or n == 0 :\n",
    "        return 1\n",
    "    else :\n",
    "        return n * my_facto(n-1)"
   ]
  },
  {
   "cell_type": "code",
   "execution_count": 11,
   "metadata": {},
   "outputs": [
    {
     "name": "stdout",
     "output_type": "stream",
     "text": [
      "The result of division is :  2.5\n"
     ]
    }
   ],
   "source": [
    "while True :\n",
    "    try :\n",
    "        no_one = int(input(\"The first number please : \"))\n",
    "        no_two = int(input(\"The second number please : \"))\n",
    "    except :\n",
    "        print(\"Something is wrong. Enter a number.\")\n",
    "    try :\n",
    "        division = no_one / no_two\n",
    "        print(\"The result of division is : \", division)\n",
    "        break\n",
    "    except ZeroDivisionError:\n",
    "        print(\"You tried to divide by zero enter again and don't use zero.\")"
   ]
  },
  {
   "cell_type": "code",
   "execution_count": 15,
   "metadata": {},
   "outputs": [
    {
     "name": "stdout",
     "output_type": "stream",
     "text": [
      "There is something wrong\n"
     ]
    }
   ],
   "source": [
    "try :\n",
    "    file = open(\"my_file.txt\", \"r\")\n",
    "    print(file.read())\n",
    "    file.close()\n",
    "except :\n",
    "    print(\"There is something wrong\")"
   ]
  },
  {
   "cell_type": "code",
   "execution_count": 17,
   "metadata": {},
   "outputs": [
    {
     "ename": "FileNotFoundError",
     "evalue": "[Errno 2] No such file or directory: 'my_file.txt'",
     "output_type": "error",
     "traceback": [
      "\u001b[1;31m---------------------------------------------------------------------------\u001b[0m",
      "\u001b[1;31mFileNotFoundError\u001b[0m                         Traceback (most recent call last)",
      "\u001b[1;32m~\\AppData\\Local\\Temp/ipykernel_6896/205734454.py\u001b[0m in \u001b[0;36m<module>\u001b[1;34m\u001b[0m\n\u001b[1;32m----> 1\u001b[1;33m \u001b[0mfile\u001b[0m \u001b[1;33m=\u001b[0m \u001b[0mopen\u001b[0m\u001b[1;33m(\u001b[0m\u001b[1;34m\"my_file.txt\"\u001b[0m\u001b[1;33m,\u001b[0m \u001b[1;34m\"r\"\u001b[0m\u001b[1;33m)\u001b[0m\u001b[1;33m\u001b[0m\u001b[1;33m\u001b[0m\u001b[0m\n\u001b[0m\u001b[0;32m      2\u001b[0m \u001b[0mprint\u001b[0m\u001b[1;33m(\u001b[0m\u001b[0mfile\u001b[0m\u001b[1;33m.\u001b[0m\u001b[0mread\u001b[0m\u001b[1;33m(\u001b[0m\u001b[1;33m)\u001b[0m\u001b[1;33m)\u001b[0m\u001b[1;33m\u001b[0m\u001b[1;33m\u001b[0m\u001b[0m\n\u001b[0;32m      3\u001b[0m \u001b[0mfile\u001b[0m\u001b[1;33m.\u001b[0m\u001b[0mclose\u001b[0m\u001b[1;33m(\u001b[0m\u001b[1;33m)\u001b[0m\u001b[1;33m\u001b[0m\u001b[1;33m\u001b[0m\u001b[0m\n\u001b[0;32m      4\u001b[0m \u001b[0mprint\u001b[0m\u001b[1;33m(\u001b[0m\u001b[1;34m\"There is something wrong\"\u001b[0m\u001b[1;33m)\u001b[0m\u001b[1;33m\u001b[0m\u001b[1;33m\u001b[0m\u001b[0m\n",
      "\u001b[1;31mFileNotFoundError\u001b[0m: [Errno 2] No such file or directory: 'my_file.txt'"
     ]
    }
   ],
   "source": [
    "file = open(\"my_file.txt\", \"r\")\n",
    "print(file.read())\n",
    "file.close()\n",
    "print(\"There is something wrong\")"
   ]
  },
  {
   "cell_type": "code",
   "execution_count": 18,
   "metadata": {},
   "outputs": [
    {
     "name": "stdout",
     "output_type": "stream",
     "text": [
      "There is no such a file or the path is incorrect.\n"
     ]
    }
   ],
   "source": [
    "try :\n",
    "    file = open(\"my_file.txt\", \"r\")\n",
    "    print(file.read())\n",
    "    file.close()\n",
    "except FileNotFoundError:\n",
    "    print(\"There is no such a file or the path is incorrect.\")"
   ]
  },
  {
   "cell_type": "code",
   "execution_count": 33,
   "metadata": {},
   "outputs": [
    {
     "name": "stdout",
     "output_type": "stream",
     "text": [
      "Hello universe\n",
      "Type hatası var. Tipi kontrol edersen iyi olur.\n",
      "Her halükarda çalışır.\n"
     ]
    }
   ],
   "source": [
    "try :\n",
    "    print(\"Hello universe\")\n",
    "    sonuc = \"4\" + 5\n",
    "    print(\"Hello\")\n",
    "\n",
    "except ValueError:\n",
    "    print(\"Value hatası var. Değeri kontrol edersen iyi olur.\")\n",
    "    \n",
    "except TypeError:\n",
    "    print(\"Type hatası var. Tipi kontrol edersen iyi olur.\")\n",
    "    \n",
    "else :\n",
    "    print(\"Demek ki hata yok. Bravo.\", sonuc)\n",
    "    \n",
    "finally :\n",
    "    print(\"Her halükarda çalışır.\")"
   ]
  },
  {
   "cell_type": "code",
   "execution_count": 39,
   "metadata": {},
   "outputs": [
    {
     "name": "stdout",
     "output_type": "stream",
     "text": [
      "something went wrong...Try Again.\n",
      "probably it is because of 'division by zero' error\n",
      "The result of division is :  3.5\n"
     ]
    }
   ],
   "source": [
    "while True :\n",
    "    try :\n",
    "        no_one = int(input(\"The first number please : \"))\n",
    "        no_two = int(input(\"The second number please : \"))\n",
    "    except :\n",
    "        print(\"Something is wrong. Enter a number.\")\n",
    "    try :\n",
    "        division = no_one / no_two\n",
    "        print(\"The result of division is : \", division)\n",
    "        break\n",
    "    except Exception as e:\n",
    "        print(\"something went wrong...Try Again.\")\n",
    "        print(f\"probably it is because of '{e}' error\")"
   ]
  },
  {
   "cell_type": "code",
   "execution_count": 40,
   "metadata": {},
   "outputs": [
    {
     "name": "stdout",
     "output_type": "stream",
     "text": [
      "unsupported operand type(s) for +: 'int' and 'str'\n"
     ]
    }
   ],
   "source": [
    "try :\n",
    "    4 + \"4\"\n",
    "except Exception as variable :\n",
    "    print(variable)"
   ]
  },
  {
   "cell_type": "code",
   "execution_count": 2,
   "metadata": {},
   "outputs": [
    {
     "data": {
      "text/plain": [
       "[0, -10]"
      ]
     },
     "execution_count": 2,
     "metadata": {},
     "output_type": "execute_result"
    }
   ],
   "source": [
    "command = [\"right 20\", \"right 30\", \"left 50\", \"up 10\", \"down 20\"]\n",
    "\n",
    "x = y = 0\n",
    "\n",
    "for i in range(len(command)):\n",
    "    if command[i].startswith(\"r\") : x = x + int(command[i].split()[1])\n",
    "    elif command[i].startswith(\"l\") : x = x - int(command[i].split()[1])\n",
    "    elif command[i].startswith(\"u\") : y = y + int(command[i].split()[1])\n",
    "    elif command[i].startswith(\"d\") : y = y - int(command[i].split()[1])\n",
    "    \n",
    "[x, y]\n",
    "    "
   ]
  },
  {
   "cell_type": "code",
   "execution_count": 6,
   "metadata": {},
   "outputs": [],
   "source": [
    "x = \"[[{({})}]]({})\""
   ]
  },
  {
   "cell_type": "code",
   "execution_count": 2,
   "metadata": {},
   "outputs": [
    {
     "data": {
      "text/plain": [
       "'ali+deli+veli'"
      ]
     },
     "execution_count": 2,
     "metadata": {},
     "output_type": "execute_result"
    }
   ],
   "source": [
    "\"ali-deli-veli\".replace(\"-\", \"+\")"
   ]
  },
  {
   "cell_type": "code",
   "execution_count": 3,
   "metadata": {},
   "outputs": [],
   "source": [
    "def isValid(s) :\n",
    "    while \"()\" in s or \"[]\" in s or \"{}\" in s :\n",
    "        s = s.replace(\"()\", \"\").replace(\"[]\", \"\").replace(\"{}\", \"\")\n",
    "    return s == \"\"        "
   ]
  },
  {
   "cell_type": "code",
   "execution_count": 7,
   "metadata": {},
   "outputs": [
    {
     "data": {
      "text/plain": [
       "True"
      ]
     },
     "execution_count": 7,
     "metadata": {},
     "output_type": "execute_result"
    }
   ],
   "source": [
    "isValid(x)"
   ]
  },
  {
   "cell_type": "code",
   "execution_count": 9,
   "metadata": {},
   "outputs": [
    {
     "data": {
      "text/plain": [
       "9"
      ]
     },
     "execution_count": 9,
     "metadata": {},
     "output_type": "execute_result"
    }
   ],
   "source": [
    "## Building a Calculator using 'dict' with 'lambda' Expression\n",
    "\n",
    "(lambda x, y : x + y)(4, 5)"
   ]
  },
  {
   "cell_type": "code",
   "execution_count": 12,
   "metadata": {},
   "outputs": [
    {
     "data": {
      "text/plain": [
       "9"
      ]
     },
     "execution_count": 12,
     "metadata": {},
     "output_type": "execute_result"
    }
   ],
   "source": [
    "calculator = {\"+\" : (lambda x, y : x + y),\n",
    "            \"-\" : (lambda x, y : x - y),\n",
    "            \"*\" : (lambda x, y : x * y),\n",
    "            \"/\" : (lambda x, y : x / y)}\n",
    "\n",
    "calculator[\"+\"](4,5)"
   ]
  },
  {
   "cell_type": "code",
   "execution_count": 13,
   "metadata": {},
   "outputs": [],
   "source": [
    "import random"
   ]
  },
  {
   "cell_type": "code",
   "execution_count": 14,
   "metadata": {},
   "outputs": [
    {
     "name": "stdout",
     "output_type": "stream",
     "text": [
      "['BPF', 'LOG4', 'NV_MAGICCONST', 'RECIP_BPF', 'Random', 'SG_MAGICCONST', 'SystemRandom', 'TWOPI', '_Sequence', '_Set', '__all__', '__builtins__', '__cached__', '__doc__', '__file__', '__loader__', '__name__', '__package__', '__spec__', '_accumulate', '_acos', '_bisect', '_ceil', '_cos', '_e', '_exp', '_floor', '_inst', '_log', '_os', '_pi', '_random', '_repeat', '_sha512', '_sin', '_sqrt', '_test', '_test_generator', '_urandom', '_warn', 'betavariate', 'choice', 'choices', 'expovariate', 'gammavariate', 'gauss', 'getrandbits', 'getstate', 'lognormvariate', 'normalvariate', 'paretovariate', 'randbytes', 'randint', 'random', 'randrange', 'sample', 'seed', 'setstate', 'shuffle', 'triangular', 'uniform', 'vonmisesvariate', 'weibullvariate']\n"
     ]
    }
   ],
   "source": [
    "print(dir(random))"
   ]
  },
  {
   "cell_type": "code",
   "execution_count": 22,
   "metadata": {},
   "outputs": [
    {
     "data": {
      "text/plain": [
       "17"
      ]
     },
     "execution_count": 22,
     "metadata": {},
     "output_type": "execute_result"
    }
   ],
   "source": [
    "random.randint(10,30)"
   ]
  },
  {
   "cell_type": "code",
   "execution_count": 23,
   "metadata": {},
   "outputs": [
    {
     "data": {
      "text/plain": [
       "'J'"
      ]
     },
     "execution_count": 23,
     "metadata": {},
     "output_type": "execute_result"
    }
   ],
   "source": [
    "chr(random.randint(65, 90))"
   ]
  },
  {
   "cell_type": "code",
   "execution_count": 24,
   "metadata": {},
   "outputs": [
    {
     "data": {
      "text/plain": [
       "'n'"
      ]
     },
     "execution_count": 24,
     "metadata": {},
     "output_type": "execute_result"
    }
   ],
   "source": [
    "chr(random.randint(97, 122))"
   ]
  },
  {
   "cell_type": "code",
   "execution_count": 25,
   "metadata": {},
   "outputs": [
    {
     "data": {
      "text/plain": [
       "'6'"
      ]
     },
     "execution_count": 25,
     "metadata": {},
     "output_type": "execute_result"
    }
   ],
   "source": [
    "chr(random.randint(48, 57))"
   ]
  },
  {
   "cell_type": "code",
   "execution_count": 26,
   "metadata": {},
   "outputs": [
    {
     "data": {
      "text/plain": [
       "'$'"
      ]
     },
     "execution_count": 26,
     "metadata": {},
     "output_type": "execute_result"
    }
   ],
   "source": [
    "chr(random.randint(33, 47))"
   ]
  },
  {
   "cell_type": "code",
   "execution_count": 27,
   "metadata": {},
   "outputs": [
    {
     "data": {
      "text/plain": [
       "'>'"
      ]
     },
     "execution_count": 27,
     "metadata": {},
     "output_type": "execute_result"
    }
   ],
   "source": [
    "chr(random.randint(58, 64))"
   ]
  },
  {
   "cell_type": "code",
   "execution_count": 36,
   "metadata": {},
   "outputs": [
    {
     "data": {
      "text/plain": [
       "['M', 'K', 'J']"
      ]
     },
     "execution_count": 36,
     "metadata": {},
     "output_type": "execute_result"
    }
   ],
   "source": [
    "## List comprehension\n",
    "uppers = [chr(random.randint(65, 90)) for i in range(3)]\n",
    "lowers = [chr(random.randint(97, 122)) for i in range(3)]\n",
    "numbers = [chr(random.randint(48, 57)) for i in range(3)]\n",
    "uppers"
   ]
  },
  {
   "cell_type": "code",
   "execution_count": 34,
   "metadata": {},
   "outputs": [
    {
     "data": {
      "text/plain": [
       "['l', 'b', 'o']"
      ]
     },
     "execution_count": 34,
     "metadata": {},
     "output_type": "execute_result"
    }
   ],
   "source": [
    "lowers\n"
   ]
  },
  {
   "cell_type": "code",
   "execution_count": 44,
   "metadata": {},
   "outputs": [
    {
     "data": {
      "text/plain": [
       "['8', '1', '5']"
      ]
     },
     "execution_count": 44,
     "metadata": {},
     "output_type": "execute_result"
    }
   ],
   "source": [
    "numbers"
   ]
  },
  {
   "cell_type": "code",
   "execution_count": 37,
   "metadata": {},
   "outputs": [
    {
     "data": {
      "text/plain": [
       "['-', '+', '.']"
      ]
     },
     "execution_count": 37,
     "metadata": {},
     "output_type": "execute_result"
    }
   ],
   "source": [
    "chars = [chr(random.randint(33, 47)) for i in range(3)]\n",
    "chars"
   ]
  },
  {
   "cell_type": "code",
   "execution_count": 46,
   "metadata": {},
   "outputs": [
    {
     "data": {
      "text/plain": [
       "'MKJnmu815-+.'"
      ]
     },
     "execution_count": 46,
     "metadata": {},
     "output_type": "execute_result"
    }
   ],
   "source": [
    "password = \"\".join(uppers) + \"\".join(lowers) + \"\".join(numbers) + \"\".join(chars)\n",
    "password"
   ]
  },
  {
   "cell_type": "code",
   "execution_count": 57,
   "metadata": {},
   "outputs": [],
   "source": [
    "ornek = \"alivelideli\"\n",
    "ornek_list = list(ornek)\n",
    "random.shuffle(ornek_list)"
   ]
  },
  {
   "cell_type": "code",
   "execution_count": 58,
   "metadata": {},
   "outputs": [
    {
     "data": {
      "text/plain": [
       "['e', 'i', 'l', 'd', 'a', 'i', 'e', 'l', 'i', 'v', 'l']"
      ]
     },
     "execution_count": 58,
     "metadata": {},
     "output_type": "execute_result"
    }
   ],
   "source": [
    "ornek_list"
   ]
  },
  {
   "cell_type": "code",
   "execution_count": 59,
   "metadata": {},
   "outputs": [
    {
     "data": {
      "text/plain": [
       "'eildaielivl'"
      ]
     },
     "execution_count": 59,
     "metadata": {},
     "output_type": "execute_result"
    }
   ],
   "source": [
    "\"\".join(ornek_list)"
   ]
  },
  {
   "cell_type": "code",
   "execution_count": 60,
   "metadata": {},
   "outputs": [],
   "source": [
    " def shuffle(password) :\n",
    "     templist = list(password)\n",
    "     random.shuffle(templist)\n",
    "     return \"\".join(templist)"
   ]
  },
  {
   "cell_type": "code",
   "execution_count": 64,
   "metadata": {},
   "outputs": [
    {
     "data": {
      "text/plain": [
       "'Ku8M.mn-1J+5'"
      ]
     },
     "execution_count": 64,
     "metadata": {},
     "output_type": "execute_result"
    }
   ],
   "source": [
    "shuffle(password)"
   ]
  },
  {
   "cell_type": "code",
   "execution_count": 65,
   "metadata": {},
   "outputs": [],
   "source": [
    "from timeit import timeit"
   ]
  },
  {
   "cell_type": "code",
   "execution_count": 78,
   "metadata": {},
   "outputs": [],
   "source": [
    "def for_loop() :\n",
    "    \n",
    "    result = []\n",
    "    for i in range(10000000) :\n",
    "        result.append(i)\n",
    "    return result\n",
    "        "
   ]
  },
  {
   "cell_type": "code",
   "execution_count": 79,
   "metadata": {},
   "outputs": [],
   "source": [
    "def list_comp() :\n",
    "    return [i for i in range(10000000)]"
   ]
  },
  {
   "cell_type": "code",
   "execution_count": null,
   "metadata": {},
   "outputs": [],
   "source": [
    "print(f\"List comprehension is {round(time1/time_list, 3)} times faster than for loops.\")"
   ]
  },
  {
   "cell_type": "code",
   "execution_count": 2,
   "metadata": {},
   "outputs": [
    {
     "data": {
      "text/plain": [
       "{'i': 1}"
      ]
     },
     "execution_count": 2,
     "metadata": {},
     "output_type": "execute_result"
    }
   ],
   "source": [
    "word_2 = {}\n",
    "word_2[\"i\"] = 1\n",
    "word_2"
   ]
  },
  {
   "cell_type": "code",
   "execution_count": 3,
   "metadata": {},
   "outputs": [
    {
     "data": {
      "text/plain": [
       "True"
      ]
     },
     "execution_count": 3,
     "metadata": {},
     "output_type": "execute_result"
    }
   ],
   "source": [
    "\"i\" in word_2"
   ]
  },
  {
   "cell_type": "code",
   "execution_count": 4,
   "metadata": {},
   "outputs": [
    {
     "data": {
      "text/plain": [
       "{'i': 2}"
      ]
     },
     "execution_count": 4,
     "metadata": {},
     "output_type": "execute_result"
    }
   ],
   "source": [
    "word_2[\"i\"] += 1\n",
    "word_2"
   ]
  },
  {
   "cell_type": "code",
   "execution_count": 5,
   "metadata": {},
   "outputs": [],
   "source": [
    "import os"
   ]
  },
  {
   "cell_type": "code",
   "execution_count": 7,
   "metadata": {},
   "outputs": [
    {
     "data": {
      "text/plain": [
       "'c:\\\\Users\\\\Pc\\\\Desktop\\\\python'"
      ]
     },
     "execution_count": 7,
     "metadata": {},
     "output_type": "execute_result"
    }
   ],
   "source": [
    "pwd"
   ]
  },
  {
   "cell_type": "code",
   "execution_count": 9,
   "metadata": {},
   "outputs": [
    {
     "data": {
      "text/plain": [
       "['learning log.docx',\n",
       " 'study.ipynb',\n",
       " 'study2.ipynb',\n",
       " 'study3.ipynb',\n",
       " 'Untitled-1.ipynb',\n",
       " 'Untitled-24.12.2021.ipynb',\n",
       " 'Untitled2.ipynb']"
      ]
     },
     "execution_count": 9,
     "metadata": {},
     "output_type": "execute_result"
    }
   ],
   "source": [
    "dosya_icerigi = os.listdir()\n",
    "dosya_icerigi"
   ]
  },
  {
   "cell_type": "code",
   "execution_count": 10,
   "metadata": {},
   "outputs": [],
   "source": [
    "import shutil"
   ]
  },
  {
   "cell_type": "code",
   "execution_count": 13,
   "metadata": {},
   "outputs": [
    {
     "data": {
      "text/plain": [
       "'adsiz.txt.zip'"
      ]
     },
     "execution_count": 13,
     "metadata": {},
     "output_type": "execute_result"
    }
   ],
   "source": [
    "shutil.make_archive(\"adsiz.txt\", \"zip\")"
   ]
  },
  {
   "cell_type": "code",
   "execution_count": 1,
   "metadata": {},
   "outputs": [
    {
     "data": {
      "text/plain": [
       "'c:\\\\Users\\\\Pc\\\\Desktop\\\\python'"
      ]
     },
     "execution_count": 1,
     "metadata": {},
     "output_type": "execute_result"
    }
   ],
   "source": [
    "pwd"
   ]
  },
  {
   "cell_type": "code",
   "execution_count": 41,
   "metadata": {},
   "outputs": [
    {
     "name": "stdout",
     "output_type": "stream",
     "text": [
      "Bitcoin \n",
      "\n",
      "\n",
      "\n",
      "ve sonrasında ortaya çıkan kripto paraların yanı sıra, bu kripto paraların üzerinde oluşturulduğu blockchain teknolojisi gelecekte yaratacağı fırsatlar ve kripto paraların dışında olası kullanım alanları nedeniyle de büyük ilgi görmektedir.\n",
      "\n",
      "['Networkler üzerine örnekler\\n', 'Yaşamımızda birçok networkün içinde yer alıyoruz. Sosyal medya hesaplarımız üzerinden mesajlaşmak, e-posta göndermek, bir banka üzerinden transfer yapmak veya borsada hisse senedi alım-satımı yapmak... Bütün bunlar günlük yaşamımızda kullandığımız networkler ve bu networkler üzerinde gerçekleştirdiğimiz işlemlerin bazılarıdır. Tüm bu networkler üzerinde ilgili ağı yöneten bir aracının \\n']\n"
     ]
    }
   ],
   "source": [
    "file = open(\"adsiz.txt\", \"r\", encoding = \"utf-8\")\n",
    "print(file.readline())\n",
    "print(file.readline())\n",
    "print(file.readline())\n",
    "print(file.readlines())\n",
    "file.close()"
   ]
  },
  {
   "cell_type": "code",
   "execution_count": 44,
   "metadata": {},
   "outputs": [
    {
     "data": {
      "text/plain": [
       "['Bitcoin \\n',\n",
       " '\\n',\n",
       " 've sonrasÄ±nda ortaya Ã§Ä±kan kripto paralarÄ±n yanÄ± sÄ±ra, bu kripto paralarÄ±n Ã¼zerinde oluÅŸturulduÄŸu blockchain teknolojisi gelecekte yaratacaÄŸÄ± fÄ±rsatlar ve kripto paralarÄ±n dÄ±ÅŸÄ±nda olasÄ± kullanÄ±m alanlarÄ± nedeniyle de bÃ¼yÃ¼k ilgi gÃ¶rmektedir.\\n',\n",
       " 'Networkler Ã¼zerine Ã¶rnekler\\n',\n",
       " 'YaÅŸamÄ±mÄ±zda birÃ§ok networkÃ¼n iÃ§inde yer alÄ±yoruz. Sosyal medya hesaplarÄ±mÄ±z Ã¼zerinden mesajlaÅŸmak, e-posta gÃ¶ndermek, bir banka Ã¼zerinden transfer yapmak veya borsada hisse senedi alÄ±m-satÄ±mÄ± yapmak... BÃ¼tÃ¼n bunlar gÃ¼nlÃ¼k yaÅŸamÄ±mÄ±zda kullandÄ±ÄŸÄ±mÄ±z networkler ve bu networkler Ã¼zerinde gerÃ§ekleÅŸtirdiÄŸimiz iÅŸlemlerin bazÄ±larÄ±dÄ±r. TÃ¼m bu networkler Ã¼zerinde ilgili aÄŸÄ± yÃ¶neten bir aracÄ±nÄ±n \\n']"
      ]
     },
     "execution_count": 44,
     "metadata": {},
     "output_type": "execute_result"
    }
   ],
   "source": [
    "with open(\"adsiz.txt\", \"r\") as file :\n",
    "    adsiz = file.readlines()\n",
    "adsiz"
   ]
  },
  {
   "cell_type": "code",
   "execution_count": 45,
   "metadata": {},
   "outputs": [
    {
     "name": "stdout",
     "output_type": "stream",
     "text": [
      "Bitcoin \n",
      "\n",
      "\n",
      "\n",
      "ve sonrasÄ±nda ortaya Ã§Ä±kan kripto paralarÄ±n yanÄ± sÄ±ra, bu kripto paralarÄ±n Ã¼zerinde oluÅŸturulduÄŸu blockchain teknolojisi gelecekte yaratacaÄŸÄ± fÄ±rsatlar ve kripto paralarÄ±n dÄ±ÅŸÄ±nda olasÄ± kullanÄ±m alanlarÄ± nedeniyle de bÃ¼yÃ¼k ilgi gÃ¶rmektedir.\n",
      "\n",
      "Networkler Ã¼zerine Ã¶rnekler\n",
      "\n",
      "YaÅŸamÄ±mÄ±zda birÃ§ok networkÃ¼n iÃ§inde yer alÄ±yoruz. Sosyal medya hesaplarÄ±mÄ±z Ã¼zerinden mesajlaÅŸmak, e-posta gÃ¶ndermek, bir banka Ã¼zerinden transfer yapmak veya borsada hisse senedi alÄ±m-satÄ±mÄ± yapmak... BÃ¼tÃ¼n bunlar gÃ¼nlÃ¼k yaÅŸamÄ±mÄ±zda kullandÄ±ÄŸÄ±mÄ±z networkler ve bu networkler Ã¼zerinde gerÃ§ekleÅŸtirdiÄŸimiz iÅŸlemlerin bazÄ±larÄ±dÄ±r. TÃ¼m bu networkler Ã¼zerinde ilgili aÄŸÄ± yÃ¶neten bir aracÄ±nÄ±n \n",
      "\n"
     ]
    }
   ],
   "source": [
    "for line in adsiz :\n",
    "    print(line)"
   ]
  },
  {
   "cell_type": "code",
   "execution_count": 47,
   "metadata": {},
   "outputs": [
    {
     "data": {
      "text/plain": [
       "['Bitcoin \\n',\n",
       " '\\n',\n",
       " 've sonrasÄ±nda ortaya Ã§Ä±kan kripto paralarÄ±n yanÄ± sÄ±ra, bu kripto paralarÄ±n Ã¼zerinde oluÅŸturulduÄŸu blockchain teknolojisi gelecekte yaratacaÄŸÄ± fÄ±rsatlar ve kripto paralarÄ±n dÄ±ÅŸÄ±nda olasÄ± kullanÄ±m alanlarÄ± nedeniyle de bÃ¼yÃ¼k ilgi gÃ¶rmektedir.\\n',\n",
       " 'Networkler Ã¼zerine Ã¶rnekler\\n',\n",
       " 'YaÅŸamÄ±mÄ±zda birÃ§ok networkÃ¼n iÃ§inde yer alÄ±yoruz. Sosyal medya hesaplarÄ±mÄ±z Ã¼zerinden mesajlaÅŸmak, e-posta gÃ¶ndermek, bir banka Ã¼zerinden transfer yapmak veya borsada hisse senedi alÄ±m-satÄ±mÄ± yapmak... BÃ¼tÃ¼n bunlar gÃ¼nlÃ¼k yaÅŸamÄ±mÄ±zda kullandÄ±ÄŸÄ±mÄ±z networkler ve bu networkler Ã¼zerinde gerÃ§ekleÅŸtirdiÄŸimiz iÅŸlemlerin bazÄ±larÄ±dÄ±r. TÃ¼m bu networkler Ã¼zerinde ilgili aÄŸÄ± yÃ¶neten bir aracÄ±nÄ±n \\n']"
      ]
     },
     "execution_count": 47,
     "metadata": {},
     "output_type": "execute_result"
    }
   ],
   "source": [
    "with open(\"adsiz.txt\", \"r\") as file :\n",
    "    adsiz2 = file.readlines()\n",
    "    \n",
    "adsiz2"
   ]
  },
  {
   "cell_type": "code",
   "execution_count": 48,
   "metadata": {},
   "outputs": [
    {
     "name": "stdout",
     "output_type": "stream",
     "text": [
      "Bitcoin \n",
      "\n",
      "\n",
      "\n",
      "ve sonrasÄ±nda ortaya Ã§Ä±kan kripto paralarÄ±n yanÄ± sÄ±ra, bu kripto paralarÄ±n Ã¼zerinde oluÅŸturulduÄŸu blockchain teknolojisi gelecekte yaratacaÄŸÄ± fÄ±rsatlar ve kripto paralarÄ±n dÄ±ÅŸÄ±nda olasÄ± kullanÄ±m alanlarÄ± nedeniyle de bÃ¼yÃ¼k ilgi gÃ¶rmektedir.\n",
      "\n",
      "Networkler Ã¼zerine Ã¶rnekler\n",
      "\n",
      "YaÅŸamÄ±mÄ±zda birÃ§ok networkÃ¼n iÃ§inde yer alÄ±yoruz. Sosyal medya hesaplarÄ±mÄ±z Ã¼zerinden mesajlaÅŸmak, e-posta gÃ¶ndermek, bir banka Ã¼zerinden transfer yapmak veya borsada hisse senedi alÄ±m-satÄ±mÄ± yapmak... BÃ¼tÃ¼n bunlar gÃ¼nlÃ¼k yaÅŸamÄ±mÄ±zda kullandÄ±ÄŸÄ±mÄ±z networkler ve bu networkler Ã¼zerinde gerÃ§ekleÅŸtirdiÄŸimiz iÅŸlemlerin bazÄ±larÄ±dÄ±r. TÃ¼m bu networkler Ã¼zerinde ilgili aÄŸÄ± yÃ¶neten bir aracÄ±nÄ±n \n",
      "\n"
     ]
    }
   ],
   "source": [
    "with open(\"adsiz.txt\", \"r\") as file :\n",
    "    for line in file :\n",
    "        print(line)"
   ]
  },
  {
   "cell_type": "code",
   "execution_count": null,
   "metadata": {},
   "outputs": [],
   "source": []
  }
 ],
 "metadata": {
  "interpreter": {
   "hash": "ac59ebe37160ed0dfa835113d9b8498d9f09ceb179beaac4002f036b9467c963"
  },
  "kernelspec": {
   "display_name": "Python 3.9.7 64-bit",
   "language": "python",
   "name": "python3"
  },
  "language_info": {
   "codemirror_mode": {
    "name": "ipython",
    "version": 3
   },
   "file_extension": ".py",
   "mimetype": "text/x-python",
   "name": "python",
   "nbconvert_exporter": "python",
   "pygments_lexer": "ipython3",
   "version": "3.9.7"
  },
  "orig_nbformat": 4
 },
 "nbformat": 4,
 "nbformat_minor": 2
}
